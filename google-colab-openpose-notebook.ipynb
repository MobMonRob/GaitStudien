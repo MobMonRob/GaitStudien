{
  "nbformat": 4,
  "nbformat_minor": 0,
  "metadata": {
    "colab": {
      "name": "OpenPose_JS.ipynb",
      "provenance": [],
      "collapsed_sections": []
    },
    "kernelspec": {
      "name": "python3",
      "display_name": "Python 3"
    },
    "accelerator": "GPU"
  },
  "cells": [
    {
      "cell_type": "markdown",
      "metadata": {
        "id": "-NLcL7pswucy"
      },
      "source": [
        "Schritt 1: Beginne hier. Bitte stelle vor der Ausführung des Skripts sicher, dass du über GPU auf dieser Landschaft verfügst (Runtime->Change runtime type->GPU). Für die Verarbeitung der Videos kann leider noch keine TPU genutzt werden, da OpenPose diese nicht unterstützt. In diesem Schritt wird OpenPose auf der Landschaft installiert und erstellt. Dieser Schritt benötigt einige Minuten und muss zu Beginn jeder Session erneut durchgeführt werden (nach jedem Start dieses Google Colab Notebooks). Es ist allerdings natürlich möglich mehrere Videos in einer Sessions zu verarbeiten. Um den Installationsschritt zu starten, drücke einfach auf den \"Ausführen\"-Button. Für die Installation musst keinen Code anpassen.\n"
      ]
    },
    {
      "cell_type": "code",
      "metadata": {
        "id": "M5473Kflgfeu"
      },
      "source": [
        "#installs OpenPose (do not edit...thank you to OpenPose user miu200521358 for providing this section of the code!)\n",
        "# Install OpenPose\n",
        "! nvcc --version\n",
        "! nvidia-smi\n",
        "ver_openpose = \"v1.6.0\"\n",
        "! cmake --version\n",
        "! wget -c \"https://github.com/Kitware/CMake/releases/download/v3.17.2/cmake-3.17.2.tar.gz\"\n",
        "! tar xf cmake-3.17.2.tar.gz\n",
        "! cd cmake-3.17.2 && ./configure && make && sudo make install\n",
        "# Install libraries\n",
        "# Basic\n",
        "! sudo apt-get --assume-yes update\n",
        "! sudo apt-get --assume-yes install build-essential\n",
        "# OpenCV\n",
        "! sudo apt-get --assume-yes install libopencv-dev\n",
        "# General dependencies\n",
        "! sudo apt-get --assume-yes install libatlas-base-dev libprotobuf-dev libleveldb-dev libsnappy-dev libhdf5-serial-dev protobuf-compiler\n",
        "! sudo apt-get --assume-yes install --no-install-recommends libboost-all-dev\n",
        "# Remaining dependencies, 14.04\n",
        "! sudo apt-get --assume-yes install libgflags-dev libgoogle-glog-dev liblmdb-dev\n",
        "# Python3 libs\n",
        "! sudo apt-get --assume-yes install python3-setuptools python3-dev build-essential\n",
        "! sudo apt-get --assume-yes install python3-pip\n",
        "! sudo -H pip3 install --upgrade numpy protobuf opencv-python\n",
        "# OpenCL Generic\n",
        "! sudo apt-get --assume-yes install opencl-headers ocl-icd-opencl-dev\n",
        "! sudo apt-get --assume-yes install libviennacl-dev\n",
        "# Python dependencies\n",
        "!pip install -q youtube-dl\n",
        "# Clone openpose\n",
        "! git clone  --depth 1 -b \"$ver_openpose\" https://github.com/CMU-Perceptual-Computing-Lab/openpose.git "
      ],
      "execution_count": null,
      "outputs": []
    },
    {
      "cell_type": "code",
      "metadata": {
        "id": "npZPLyMp5ViB"
      },
      "source": [
        "# Build openpose\n",
        "! cd openpose && mkdir build && cd build\n",
        "! cd openpose/build && cmake ..\n",
        "! cd openpose/build && make -j`nproc`"
      ],
      "execution_count": null,
      "outputs": []
    },
    {
      "cell_type": "markdown",
      "metadata": {
        "id": "i6bMp-JT__MK"
      },
      "source": [
        "Schritt 2: In diesem Schritt verbindest du dich mit deine Google Drive, um auf deine Eingabevideos zuzugreifen. Nachdem du auf den \"Ausführen\"-Button gegeklickt hast, öffne bitte den angezeigten Link und folge den beschriebenden Schritten, um einen Autorisierung-Code zu erhalten. Kopiere diese bitte in das Eingabefeld, um auf deine Google Drive Daten zuzugreifen.\n",
        "\n",
        "**Wichtig:** Wenn es nicht erlaubt ist, die Videos online zu speichern und zu bearbeiten, muss OpenPose lokal auf einem Computer installiert werden. Für eine Anleitung hierzu, folge bitte den Schritte unter: https://github.com/CMU-Perceptual-Computing-Lab/openpose"
      ]
    },
    {
      "cell_type": "code",
      "metadata": {
        "id": "lAPHbWFEhO6x"
      },
      "source": [
        "# importiere google drive, um auf die Videos zuzugreifen (keine Anpassung notwendig)\n",
        "from google.colab import drive\n",
        "drive.mount('/content/gdrive')"
      ],
      "execution_count": null,
      "outputs": []
    },
    {
      "cell_type": "markdown",
      "metadata": {
        "id": "AJ05KS615jxp"
      },
      "source": [
        "Step 2.3. Run this step only if you need to change the resolution of your video (e.g., your video is being analyzed sideways)."
      ]
    },
    {
      "cell_type": "code",
      "metadata": {
        "id": "_mwZj_3J5q7-"
      },
      "source": [
        "#changes resolution of the video\n",
        "#edit the two paths that include ***YourVideoName*** (be sure to include the file type (e.g., .avi, .mov) after the video name in both locations)\n",
        "import moviepy.editor as mp\n",
        "clip = mp.VideoFileClip(\"/content/gdrive/My Drive/YourVideoName.filetype\")\n",
        "clip_resized = clip.resize(newsize=(1080,1920))\n",
        "clip_resized.write_videofile(\"/content/gdrive/My Drive/YourVideoName_resized.filetype\")"
      ],
      "execution_count": null,
      "outputs": []
    },
    {
      "cell_type": "markdown",
      "metadata": {
        "id": "1DaW7ihTwZAC"
      },
      "source": [
        "Schritt 3: Bitt stelle sicher, dass das Video, welches du verarbeiten möchtest auf Google Drive abgelegt wurde. Es ist auch möglich den JSON und Video Ausgabepfad anzupassen (der standardmäßige Pfad ist der Google Drive Hauptfolder)\n",
        "\n",
        "Vergesse nicht die beiden Platzhalter in dem Code mit deinem VideoName.filtetype zu ersetzten.\n"
      ]
    },
    {
      "cell_type": "code",
      "metadata": {
        "id": "OowrJ3irmk7U",
        "colab": {
          "base_uri": "https://localhost:8080/"
        },
        "outputId": "71439451-868d-45e4-99eb-5132980033e8"
      },
      "source": [
        "#analysieren das auf Google Drive abgelegte Video mit Openpose\n",
        "#bearbeite die beiden Pfade, die ***VideoName*** enthalten (vergessen nicht die Dateiendung (z.B. .avi oder .mp4) bei beiden Pfaden hinzuzufügen)\n",
        "!cd openpose && ./build/examples/openpose/openpose.bin --video /content/gdrive/My\\ Drive/***VideoName.filetype*** --number_people_max 1 --write_json /content/gdrive/My\\ Drive/ --display 0 --write_video /content/gdrive/My\\ Drive/***VideoName_labeled.filetype***"
      ],
      "execution_count": null,
      "outputs": [
        {
          "output_type": "stream",
          "text": [
            "/bin/bash: ./build/examples/openpose/openpose.bin: No such file or directory\n"
          ],
          "name": "stdout"
        }
      ]
    },
    {
      "cell_type": "markdown",
      "metadata": {
        "id": "Va7MuuZMQr4s"
      },
      "source": [
        "Schritt 4: Wenn du mehrere Videos aus einem Ordner gleichzeitig verarbeiten möchtest, kannst du diesen Code ausführen. Es werden alle Videos, die sich in dem angegebenen Ordner befinden, mit OpenPose analysisert und die jeweiligen JSON Dateien erzeugt. Dies ist vorallem sinnvoll, wenn eine große Menge an Videos mit OpenPose analysiert werden müssen."
      ]
    },
    {
      "cell_type": "code",
      "metadata": {
        "id": "whwI0PGoe4Z4"
      },
      "source": [
        "import os\n",
        "\n",
        "files = os.listdir(\"/content/gdrive/My Drive/Videos\")\n",
        "\n",
        "for file in files:\n",
        "  !cd openpose && ./build/examples/openpose/openpose.bin --video /content/gdrive/My\\ Drive/Videos/$file --number_people_max 1 --write_json /content/gdrive/My\\ Drive/Keypoints/$file/ --display 0 --render_pose 0"
      ],
      "execution_count": null,
      "outputs": []
    },
    {
      "cell_type": "markdown",
      "metadata": {
        "id": "RSAWG0b6_Hu7"
      },
      "source": [
        "Wenn OpenPose die Videos erfolgreich analysiert hat, findest du die Ordner mit den JSON Dateien auf deinem Google Drive. Du kannst diese nun runterladen, damit diese weiter verarbeitet und klassifiziert werden können."
      ]
    }
  ]
}